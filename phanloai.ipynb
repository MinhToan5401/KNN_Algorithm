{
 "cells": [
  {
   "cell_type": "markdown",
   "metadata": {},
   "source": [
    "Đọc thư viện"
   ]
  },
  {
   "cell_type": "code",
   "execution_count": 8,
   "metadata": {},
   "outputs": [],
   "source": [
    "import pandas as pd\n",
    "import matplotlib.pyplot as plt\n",
    "import numpy as np\n",
    "from sklearn.neighbors import KNeighborsClassifier"
   ]
  },
  {
   "cell_type": "markdown",
   "metadata": {},
   "source": [
    "Lưu dữ liệu vào biến data_read"
   ]
  },
  {
   "cell_type": "code",
   "execution_count": 2,
   "metadata": {},
   "outputs": [],
   "source": [
    "data_read = pd.read_csv('iris.csv')"
   ]
  },
  {
   "cell_type": "markdown",
   "metadata": {},
   "source": [
    "Khảo sát về mặt thống kê"
   ]
  },
  {
   "cell_type": "code",
   "execution_count": 18,
   "metadata": {},
   "outputs": [
    {
     "data": {
      "text/html": [
       "<div>\n",
       "<style scoped>\n",
       "    .dataframe tbody tr th:only-of-type {\n",
       "        vertical-align: middle;\n",
       "    }\n",
       "\n",
       "    .dataframe tbody tr th {\n",
       "        vertical-align: top;\n",
       "    }\n",
       "\n",
       "    .dataframe thead th {\n",
       "        text-align: right;\n",
       "    }\n",
       "</style>\n",
       "<table border=\"1\" class=\"dataframe\">\n",
       "  <thead>\n",
       "    <tr style=\"text-align: right;\">\n",
       "      <th></th>\n",
       "      <th>sepal.length</th>\n",
       "      <th>sepal.width</th>\n",
       "      <th>petal.length</th>\n",
       "      <th>petal.width</th>\n",
       "    </tr>\n",
       "  </thead>\n",
       "  <tbody>\n",
       "    <tr>\n",
       "      <th>count</th>\n",
       "      <td>150.000000</td>\n",
       "      <td>150.000000</td>\n",
       "      <td>150.000000</td>\n",
       "      <td>150.000000</td>\n",
       "    </tr>\n",
       "    <tr>\n",
       "      <th>mean</th>\n",
       "      <td>5.843333</td>\n",
       "      <td>3.057333</td>\n",
       "      <td>3.758000</td>\n",
       "      <td>1.199333</td>\n",
       "    </tr>\n",
       "    <tr>\n",
       "      <th>std</th>\n",
       "      <td>0.828066</td>\n",
       "      <td>0.435866</td>\n",
       "      <td>1.765298</td>\n",
       "      <td>0.762238</td>\n",
       "    </tr>\n",
       "    <tr>\n",
       "      <th>min</th>\n",
       "      <td>4.300000</td>\n",
       "      <td>2.000000</td>\n",
       "      <td>1.000000</td>\n",
       "      <td>0.100000</td>\n",
       "    </tr>\n",
       "    <tr>\n",
       "      <th>25%</th>\n",
       "      <td>5.100000</td>\n",
       "      <td>2.800000</td>\n",
       "      <td>1.600000</td>\n",
       "      <td>0.300000</td>\n",
       "    </tr>\n",
       "    <tr>\n",
       "      <th>50%</th>\n",
       "      <td>5.800000</td>\n",
       "      <td>3.000000</td>\n",
       "      <td>4.350000</td>\n",
       "      <td>1.300000</td>\n",
       "    </tr>\n",
       "    <tr>\n",
       "      <th>75%</th>\n",
       "      <td>6.400000</td>\n",
       "      <td>3.300000</td>\n",
       "      <td>5.100000</td>\n",
       "      <td>1.800000</td>\n",
       "    </tr>\n",
       "    <tr>\n",
       "      <th>max</th>\n",
       "      <td>7.900000</td>\n",
       "      <td>4.400000</td>\n",
       "      <td>6.900000</td>\n",
       "      <td>2.500000</td>\n",
       "    </tr>\n",
       "  </tbody>\n",
       "</table>\n",
       "</div>"
      ],
      "text/plain": [
       "       sepal.length  sepal.width  petal.length  petal.width\n",
       "count    150.000000   150.000000    150.000000   150.000000\n",
       "mean       5.843333     3.057333      3.758000     1.199333\n",
       "std        0.828066     0.435866      1.765298     0.762238\n",
       "min        4.300000     2.000000      1.000000     0.100000\n",
       "25%        5.100000     2.800000      1.600000     0.300000\n",
       "50%        5.800000     3.000000      4.350000     1.300000\n",
       "75%        6.400000     3.300000      5.100000     1.800000\n",
       "max        7.900000     4.400000      6.900000     2.500000"
      ]
     },
     "execution_count": 18,
     "metadata": {},
     "output_type": "execute_result"
    }
   ],
   "source": [
    "data_read.describe()"
   ]
  },
  {
   "cell_type": "markdown",
   "metadata": {},
   "source": [
    "Xem một vài dữ liệu đầu, từ đó biết được các features và labels"
   ]
  },
  {
   "cell_type": "code",
   "execution_count": 19,
   "metadata": {},
   "outputs": [
    {
     "data": {
      "text/html": [
       "<div>\n",
       "<style scoped>\n",
       "    .dataframe tbody tr th:only-of-type {\n",
       "        vertical-align: middle;\n",
       "    }\n",
       "\n",
       "    .dataframe tbody tr th {\n",
       "        vertical-align: top;\n",
       "    }\n",
       "\n",
       "    .dataframe thead th {\n",
       "        text-align: right;\n",
       "    }\n",
       "</style>\n",
       "<table border=\"1\" class=\"dataframe\">\n",
       "  <thead>\n",
       "    <tr style=\"text-align: right;\">\n",
       "      <th></th>\n",
       "      <th>sepal.length</th>\n",
       "      <th>sepal.width</th>\n",
       "      <th>petal.length</th>\n",
       "      <th>petal.width</th>\n",
       "      <th>variety</th>\n",
       "    </tr>\n",
       "  </thead>\n",
       "  <tbody>\n",
       "    <tr>\n",
       "      <th>0</th>\n",
       "      <td>5.1</td>\n",
       "      <td>3.5</td>\n",
       "      <td>1.4</td>\n",
       "      <td>0.2</td>\n",
       "      <td>Setosa</td>\n",
       "    </tr>\n",
       "    <tr>\n",
       "      <th>1</th>\n",
       "      <td>4.9</td>\n",
       "      <td>3.0</td>\n",
       "      <td>1.4</td>\n",
       "      <td>0.2</td>\n",
       "      <td>Setosa</td>\n",
       "    </tr>\n",
       "    <tr>\n",
       "      <th>2</th>\n",
       "      <td>4.7</td>\n",
       "      <td>3.2</td>\n",
       "      <td>1.3</td>\n",
       "      <td>0.2</td>\n",
       "      <td>Setosa</td>\n",
       "    </tr>\n",
       "    <tr>\n",
       "      <th>3</th>\n",
       "      <td>4.6</td>\n",
       "      <td>3.1</td>\n",
       "      <td>1.5</td>\n",
       "      <td>0.2</td>\n",
       "      <td>Setosa</td>\n",
       "    </tr>\n",
       "    <tr>\n",
       "      <th>4</th>\n",
       "      <td>5.0</td>\n",
       "      <td>3.6</td>\n",
       "      <td>1.4</td>\n",
       "      <td>0.2</td>\n",
       "      <td>Setosa</td>\n",
       "    </tr>\n",
       "  </tbody>\n",
       "</table>\n",
       "</div>"
      ],
      "text/plain": [
       "   sepal.length  sepal.width  petal.length  petal.width variety\n",
       "0           5.1          3.5           1.4          0.2  Setosa\n",
       "1           4.9          3.0           1.4          0.2  Setosa\n",
       "2           4.7          3.2           1.3          0.2  Setosa\n",
       "3           4.6          3.1           1.5          0.2  Setosa\n",
       "4           5.0          3.6           1.4          0.2  Setosa"
      ]
     },
     "execution_count": 19,
     "metadata": {},
     "output_type": "execute_result"
    }
   ],
   "source": [
    "data_read.head()"
   ]
  },
  {
   "cell_type": "markdown",
   "metadata": {},
   "source": [
    "Xem số lượng và tên gọi các class"
   ]
  },
  {
   "cell_type": "code",
   "execution_count": 20,
   "metadata": {},
   "outputs": [
    {
     "name": "stdout",
     "output_type": "stream",
     "text": [
      "['Setosa' 'Versicolor' 'Virginica']\n"
     ]
    }
   ],
   "source": [
    "class_names = data_read['variety'].unique()\n",
    "print(class_names)"
   ]
  },
  {
   "cell_type": "markdown",
   "metadata": {},
   "source": [
    "Chuyển sang dạng numpy"
   ]
  },
  {
   "cell_type": "code",
   "execution_count": 21,
   "metadata": {},
   "outputs": [],
   "source": [
    "data = data_read.to_numpy()"
   ]
  },
  {
   "cell_type": "markdown",
   "metadata": {},
   "source": [
    "Vẽ đồ thị 2 scatter nằm trong một hình như trên:\n",
    "+ Đồ thị thứ nhất biểu diễn mqh giữa chiều rộng đài hoa và chiều rộng cánh hoa của Setosa và Virginica có phân loại màu bằng lengend().\n",
    "+ Đồ thị thứ hai biểu diễn mqh giữa chiều dài đài hoa và chiều dài cánh hoa của Setosa và Virginica có phân loại màu bằng lengend()."
   ]
  },
  {
   "cell_type": "code",
   "execution_count": 39,
   "metadata": {},
   "outputs": [
    {
     "data": {
      "image/png": "[encoded data removed]",
      "text/plain": [
       "<Figure size 750x400 with 1 Axes>"
      ]
     },
     "metadata": {},
     "output_type": "display_data"
    }
   ],
   "source": [
    "#tạo ra một cửa sổ kích thước 15x4 inchs, gồm 1 hàng và 2 cột, mỗi cột chứa một subplot\n",
    "hinh, truc = plt.subplots(figsize = [7.5, 4])\n",
    "#ĐỒ THỊ PLOT THỨ NHẤT (BÊN TRÁI)\n",
    "\n",
    "truc.plot(data[(data[:,4]=='Setosa'),1], data[(data[:,4]=='Setosa'),3], 'o', label='Setosa')\n",
    "#lọc hàng là dữ liệu của loài hoa Setosa, cột là dữ liệu của chiều rộng cánh hoa (sepal width)\n",
    "#lọc hàng là dữ liệu của loài hoa Setosa, cột là dữ liệu của chiều rộng đài hoa (petal width)\n",
    "\n",
    "truc.plot(data[(data[:,4]=='Virginica'),1], data[(data[:,4]=='Virginica'),3], 'o', label='Virginica')\n",
    "#lọc hàng là dữ liệu của loài hoa Virginica, cột là dữ liệu của chiều rộng cánh hoa (sepal width)\n",
    "#lọc hàng là dữ liệu của loài hoa Virginica, cột là dữ liệu của chiều rộng đài hoa (petal width)\n",
    "\n",
    "# x2 = data[(data[:,4]=='Virginica'),0]\n",
    "# y2 = data[(data[:,4]=='Virginica'),2]\n",
    "# toado_Virginica_width= list(zip(x2, y2))\n",
    "# print(toado_Virginica_width)\n",
    "\n",
    "truc.set_xlabel(\"Chiều rộng cánh hoa\")\n",
    "truc.set_ylabel(\"Chiều rộng đài hoa\")\n",
    "truc.legend()\n",
    "plt.show()"
   ]
  },
  {
   "cell_type": "markdown",
   "metadata": {},
   "source": [
    "Hàm tính khoảng cách của 2 điểm"
   ]
  },
  {
   "cell_type": "code",
   "execution_count": 31,
   "metadata": {},
   "outputs": [],
   "source": [
    "def distance(point_1,point_2):\n",
    "    l = len(point_1)\n",
    "    sum = 0\n",
    "    for i in range(l):\n",
    "        sum = sum + (point_1[i]-point_2[i])**2\n",
    "        dist = np.sqrt(sum)\n",
    "    return dist"
   ]
  },
  {
   "cell_type": "markdown",
   "metadata": {},
   "source": [
    "Thuật toán K_NN"
   ]
  },
  {
   "cell_type": "code",
   "execution_count": 36,
   "metadata": {},
   "outputs": [],
   "source": [
    "def knn(X, x_new, K):\n",
    "    rows, cols  = X.shape\n",
    "    class_names = np.unique(X[:,cols-1])\n",
    "    dis_list = np.zeros(rows) # tạo mảng 1 chiều dis_list có các hàng đều mang giá trị 0 để lưu giá trị khoảng cách\n",
    "    \n",
    "    for i in range(rows):                               # Duyệt tất cả các dữ liệu.\n",
    "        dis_list[i] = distance(X[i,:cols-1], x_new)     # Tính toán khoảng cách từ điểm mới đưa vào tới các điểm trong bộ dữ liệu\n",
    "\n",
    "    index = dis_list.argsort()[:K]          # Tìm vị trí của K điểm gần nhất\n",
    "    \n",
    "    # Kiểm tra xem trong K điểm gần nhất, lớp nào xuất hiện nhiều nhất\n",
    "    voting = np.zeros(class_names.shape)\n",
    "    for i in index:\n",
    "        id = np.where(data[i,cols-1]==class_names)\n",
    "        voting[id] = voting[id]+1\n",
    "    \n",
    "    \n",
    "    # Trả về kết quả là lớp xuất hiện nhiều nhất\n",
    "    class_name = class_names[np.argmax(voting)]    \n",
    "    return class_name"
   ]
  },
  {
   "cell_type": "code",
   "execution_count": 47,
   "metadata": {},
   "outputs": [],
   "source": [
    "X = data_read.copy()                     # copy tập data lưu vào biến X\n",
    "X.drop(columns=['sepal.length', 'petal.length'], inplace=True)\n",
    "X1 = X.to_numpy()\n",
    "x_new = np.array([2.5,0.7]) # Chọn 1 bộ giá chiều rộng đài hoa và cánh hoa bất kỳ\n",
    "#Tiến hành tính khoảng cách bằng hàm knn và cũng trong hàm này, đưa ra 3 điểm dữ liệu (K = 3) gần với điểm dữ liệu x_new nhất, sau đó xem coi class nào có 2 cái thì return class đó."
   ]
  },
  {
   "cell_type": "code",
   "execution_count": 50,
   "metadata": {},
   "outputs": [
    {
     "name": "stdout",
     "output_type": "stream",
     "text": [
      "Setosa\n"
     ]
    }
   ],
   "source": [
    "d = knn(X1,x_new,5)\n",
    "print (d)"
   ]
  },
  {
   "cell_type": "markdown",
   "metadata": {},
   "source": [
    "Plot lại điểm x_new"
   ]
  },
  {
   "cell_type": "code",
   "execution_count": 56,
   "metadata": {},
   "outputs": [
    {
     "data": {
      "image/png": "[encoded data removed]",
      "text/plain": [
       "<Figure size 750x400 with 1 Axes>"
      ]
     },
     "metadata": {},
     "output_type": "display_data"
    }
   ],
   "source": [
    "hinh, truc1 = plt.subplots(figsize = [7.5, 4])\n",
    "# Vẽ các nhóm theo sepai.width và petal.width\n",
    "truc1.plot(data[(data[:,4]=='Setosa'),1], data[(data[:,4]=='Setosa'),3],'o', label= 'Setosa')\n",
    "truc1.plot(data[(data[:,4]=='Virginica'),1], data[(data[:,4]=='Virginica'),3],'o', label= 'Virginica')\n",
    "\n",
    "truc1.plot(x_new[0], x_new[1], 'o', label = '$x_{new}$')\n",
    "truc1.set_xlabel(\"Sepai Width\")\n",
    "truc1.set_ylabel(\"Petal Width\")\n",
    "truc1.legend()\n",
    "\n",
    "plt.show()"
   ]
  }
 ],
 "metadata": {
  "kernelspec": {
   "display_name": "Python 3",
   "language": "python",
   "name": "python3"
  },
  "language_info": {
   "codemirror_mode": {
    "name": "ipython",
    "version": 3
   },
   "file_extension": ".py",
   "mimetype": "text/x-python",
   "name": "python",
   "nbconvert_exporter": "python",
   "pygments_lexer": "ipython3",
   "version": "3.9.6"
  },
  "orig_nbformat": 4
 },
 "nbformat": 4,
 "nbformat_minor": 2
}
